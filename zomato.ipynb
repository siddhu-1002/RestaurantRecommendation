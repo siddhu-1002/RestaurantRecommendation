{
  "nbformat": 4,
  "nbformat_minor": 0,
  "metadata": {
    "kernelspec": {
      "display_name": "Python 3",
      "language": "python",
      "name": "python3"
    },
    "language_info": {
      "codemirror_mode": {
        "name": "ipython",
        "version": 3
      },
      "file_extension": ".py",
      "mimetype": "text/x-python",
      "name": "python",
      "nbconvert_exporter": "python",
      "pygments_lexer": "ipython3",
      "version": "3.8.8"
    },
    "colab": {
      "name": "zomato.ipynb",
      "provenance": []
    }
  },
  "cells": [
    {
      "cell_type": "code",
      "metadata": {
        "id": "aDrC14FHR3EK"
      },
      "source": [
        ""
      ],
      "execution_count": null,
      "outputs": []
    },
    {
      "cell_type": "code",
      "metadata": {
        "id": "DZ0ulCrgRvIt",
        "colab": {
          "base_uri": "https://localhost:8080/"
        },
        "outputId": "293f0f93-338f-43ff-e75f-1d574db46065"
      },
      "source": [
        "from google.colab import drive\n",
        "drive.mount('/content/gdrive')"
      ],
      "execution_count": 1,
      "outputs": [
        {
          "output_type": "stream",
          "text": [
            "Mounted at /content/gdrive\n"
          ],
          "name": "stdout"
        }
      ]
    },
    {
      "cell_type": "code",
      "metadata": {
        "id": "IEuH9pNNSWcR"
      },
      "source": [
        "path = '/content/gdrive/My Drive/Colab Notebooks/Projects/Zomato_restaurant_recommendation_system'"
      ],
      "execution_count": 8,
      "outputs": []
    },
    {
      "cell_type": "markdown",
      "metadata": {
        "id": "LCSRgDU7Rthx"
      },
      "source": [
        "# Content based recommendation system"
      ]
    },
    {
      "cell_type": "markdown",
      "metadata": {
        "id": "L5YUpAKgRth5"
      },
      "source": [
        "# Importing necessary libraries"
      ]
    },
    {
      "cell_type": "code",
      "metadata": {
        "execution": {
          "iopub.execute_input": "2021-05-31T15:20:52.264941Z",
          "iopub.status.busy": "2021-05-31T15:20:52.264560Z",
          "iopub.status.idle": "2021-05-31T15:20:52.272896Z",
          "shell.execute_reply": "2021-05-31T15:20:52.271632Z",
          "shell.execute_reply.started": "2021-05-31T15:20:52.264903Z"
        },
        "id": "NUbEXQS6Rth7"
      },
      "source": [
        "import numpy as np\n",
        "import pandas as pd\n",
        "import seaborn as sns\n",
        "import matplotlib.pyplot as plt\n",
        "import re\n",
        "from nltk.corpus import stopwords\n",
        "\n",
        "from sklearn.model_selection import train_test_split\n",
        "from sklearn.linear_model import LogisticRegression\n",
        "from sklearn.linear_model import LinearRegression\n",
        "from sklearn.metrics import classification_report\n",
        "from sklearn.metrics import accuracy_score\n",
        "from sklearn.metrics import r2_score\n",
        "from sklearn.metrics.pairwise import linear_kernel\n",
        "from sklearn.feature_extraction.text import TfidfVectorizer, CountVectorizer\n",
        "\n",
        "import warnings\n",
        "warnings.filterwarnings('always')      # Always print matching warnings\n",
        "warnings.filterwarnings('ignore')      # Never print matching warnings"
      ],
      "execution_count": 3,
      "outputs": []
    },
    {
      "cell_type": "markdown",
      "metadata": {
        "id": "kLEbTsu8Rth9"
      },
      "source": [
        "# Load and read the dataset"
      ]
    },
    {
      "cell_type": "code",
      "metadata": {
        "execution": {
          "iopub.execute_input": "2021-05-31T15:20:52.853607Z",
          "iopub.status.busy": "2021-05-31T15:20:52.853257Z",
          "iopub.status.idle": "2021-05-31T15:20:58.204715Z",
          "shell.execute_reply": "2021-05-31T15:20:58.203819Z",
          "shell.execute_reply.started": "2021-05-31T15:20:52.853577Z"
        },
        "scrolled": true,
        "id": "9Hy30D4fRth-",
        "colab": {
          "base_uri": "https://localhost:8080/",
          "height": 602
        },
        "outputId": "d1533843-c1e2-44bb-ba3d-8d3774388564"
      },
      "source": [
        "zomato_real = pd.read_csv(path + \"/zomato.csv\")\n",
        "zomato_real.head()"
      ],
      "execution_count": 10,
      "outputs": [
        {
          "output_type": "execute_result",
          "data": {
            "text/html": [
              "<div>\n",
              "<style scoped>\n",
              "    .dataframe tbody tr th:only-of-type {\n",
              "        vertical-align: middle;\n",
              "    }\n",
              "\n",
              "    .dataframe tbody tr th {\n",
              "        vertical-align: top;\n",
              "    }\n",
              "\n",
              "    .dataframe thead th {\n",
              "        text-align: right;\n",
              "    }\n",
              "</style>\n",
              "<table border=\"1\" class=\"dataframe\">\n",
              "  <thead>\n",
              "    <tr style=\"text-align: right;\">\n",
              "      <th></th>\n",
              "      <th>url</th>\n",
              "      <th>address</th>\n",
              "      <th>name</th>\n",
              "      <th>online_order</th>\n",
              "      <th>book_table</th>\n",
              "      <th>rate</th>\n",
              "      <th>votes</th>\n",
              "      <th>phone</th>\n",
              "      <th>location</th>\n",
              "      <th>rest_type</th>\n",
              "      <th>dish_liked</th>\n",
              "      <th>cuisines</th>\n",
              "      <th>approx_cost(for two people)</th>\n",
              "      <th>reviews_list</th>\n",
              "      <th>menu_item</th>\n",
              "      <th>listed_in(type)</th>\n",
              "      <th>listed_in(city)</th>\n",
              "    </tr>\n",
              "  </thead>\n",
              "  <tbody>\n",
              "    <tr>\n",
              "      <th>0</th>\n",
              "      <td>https://www.zomato.com/bangalore/jalsa-banasha...</td>\n",
              "      <td>942, 21st Main Road, 2nd Stage, Banashankari, ...</td>\n",
              "      <td>Jalsa</td>\n",
              "      <td>Yes</td>\n",
              "      <td>Yes</td>\n",
              "      <td>4.1/5</td>\n",
              "      <td>775</td>\n",
              "      <td>080 42297555\\r\\n+91 9743772233</td>\n",
              "      <td>Banashankari</td>\n",
              "      <td>Casual Dining</td>\n",
              "      <td>Pasta, Lunch Buffet, Masala Papad, Paneer Laja...</td>\n",
              "      <td>North Indian, Mughlai, Chinese</td>\n",
              "      <td>800</td>\n",
              "      <td>[('Rated 4.0', 'RATED\\n  A beautiful place to ...</td>\n",
              "      <td>[]</td>\n",
              "      <td>Buffet</td>\n",
              "      <td>Banashankari</td>\n",
              "    </tr>\n",
              "    <tr>\n",
              "      <th>1</th>\n",
              "      <td>https://www.zomato.com/bangalore/spice-elephan...</td>\n",
              "      <td>2nd Floor, 80 Feet Road, Near Big Bazaar, 6th ...</td>\n",
              "      <td>Spice Elephant</td>\n",
              "      <td>Yes</td>\n",
              "      <td>No</td>\n",
              "      <td>4.1/5</td>\n",
              "      <td>787</td>\n",
              "      <td>080 41714161</td>\n",
              "      <td>Banashankari</td>\n",
              "      <td>Casual Dining</td>\n",
              "      <td>Momos, Lunch Buffet, Chocolate Nirvana, Thai G...</td>\n",
              "      <td>Chinese, North Indian, Thai</td>\n",
              "      <td>800</td>\n",
              "      <td>[('Rated 4.0', 'RATED\\n  Had been here for din...</td>\n",
              "      <td>[]</td>\n",
              "      <td>Buffet</td>\n",
              "      <td>Banashankari</td>\n",
              "    </tr>\n",
              "    <tr>\n",
              "      <th>2</th>\n",
              "      <td>https://www.zomato.com/SanchurroBangalore?cont...</td>\n",
              "      <td>1112, Next to KIMS Medical College, 17th Cross...</td>\n",
              "      <td>San Churro Cafe</td>\n",
              "      <td>Yes</td>\n",
              "      <td>No</td>\n",
              "      <td>3.8/5</td>\n",
              "      <td>918</td>\n",
              "      <td>+91 9663487993</td>\n",
              "      <td>Banashankari</td>\n",
              "      <td>Cafe, Casual Dining</td>\n",
              "      <td>Churros, Cannelloni, Minestrone Soup, Hot Choc...</td>\n",
              "      <td>Cafe, Mexican, Italian</td>\n",
              "      <td>800</td>\n",
              "      <td>[('Rated 3.0', \"RATED\\n  Ambience is not that ...</td>\n",
              "      <td>[]</td>\n",
              "      <td>Buffet</td>\n",
              "      <td>Banashankari</td>\n",
              "    </tr>\n",
              "    <tr>\n",
              "      <th>3</th>\n",
              "      <td>https://www.zomato.com/bangalore/addhuri-udupi...</td>\n",
              "      <td>1st Floor, Annakuteera, 3rd Stage, Banashankar...</td>\n",
              "      <td>Addhuri Udupi Bhojana</td>\n",
              "      <td>No</td>\n",
              "      <td>No</td>\n",
              "      <td>3.7/5</td>\n",
              "      <td>88</td>\n",
              "      <td>+91 9620009302</td>\n",
              "      <td>Banashankari</td>\n",
              "      <td>Quick Bites</td>\n",
              "      <td>Masala Dosa</td>\n",
              "      <td>South Indian, North Indian</td>\n",
              "      <td>300</td>\n",
              "      <td>[('Rated 4.0', \"RATED\\n  Great food and proper...</td>\n",
              "      <td>[]</td>\n",
              "      <td>Buffet</td>\n",
              "      <td>Banashankari</td>\n",
              "    </tr>\n",
              "    <tr>\n",
              "      <th>4</th>\n",
              "      <td>https://www.zomato.com/bangalore/grand-village...</td>\n",
              "      <td>10, 3rd Floor, Lakshmi Associates, Gandhi Baza...</td>\n",
              "      <td>Grand Village</td>\n",
              "      <td>No</td>\n",
              "      <td>No</td>\n",
              "      <td>3.8/5</td>\n",
              "      <td>166</td>\n",
              "      <td>+91 8026612447\\r\\n+91 9901210005</td>\n",
              "      <td>Basavanagudi</td>\n",
              "      <td>Casual Dining</td>\n",
              "      <td>Panipuri, Gol Gappe</td>\n",
              "      <td>North Indian, Rajasthani</td>\n",
              "      <td>600</td>\n",
              "      <td>[('Rated 4.0', 'RATED\\n  Very good restaurant ...</td>\n",
              "      <td>[]</td>\n",
              "      <td>Buffet</td>\n",
              "      <td>Banashankari</td>\n",
              "    </tr>\n",
              "  </tbody>\n",
              "</table>\n",
              "</div>"
            ],
            "text/plain": [
              "                                                 url  ... listed_in(city)\n",
              "0  https://www.zomato.com/bangalore/jalsa-banasha...  ...    Banashankari\n",
              "1  https://www.zomato.com/bangalore/spice-elephan...  ...    Banashankari\n",
              "2  https://www.zomato.com/SanchurroBangalore?cont...  ...    Banashankari\n",
              "3  https://www.zomato.com/bangalore/addhuri-udupi...  ...    Banashankari\n",
              "4  https://www.zomato.com/bangalore/grand-village...  ...    Banashankari\n",
              "\n",
              "[5 rows x 17 columns]"
            ]
          },
          "metadata": {
            "tags": []
          },
          "execution_count": 10
        }
      ]
    },
    {
      "cell_type": "markdown",
      "metadata": {
        "id": "BgyDZFppRtiA"
      },
      "source": [
        "#### Data Cleaning and Feature Engineering"
      ]
    },
    {
      "cell_type": "markdown",
      "metadata": {
        "id": "DH-04f0zRtiB"
      },
      "source": [
        "#### Analyse the dataset"
      ]
    },
    {
      "cell_type": "code",
      "metadata": {
        "execution": {
          "iopub.execute_input": "2021-05-31T15:20:58.207080Z",
          "iopub.status.busy": "2021-05-31T15:20:58.206742Z",
          "iopub.status.idle": "2021-05-31T15:20:58.300894Z",
          "shell.execute_reply": "2021-05-31T15:20:58.299660Z",
          "shell.execute_reply.started": "2021-05-31T15:20:58.207050Z"
        },
        "id": "dK9mW9R2RtiB",
        "colab": {
          "base_uri": "https://localhost:8080/",
          "height": 499
        },
        "outputId": "da631501-7b46-44d3-ce57-48107800a771"
      },
      "source": [
        "zomato_real.info()\n",
        "\n",
        "\"\"\"\n",
        "1) The dataset is of form rows and columns\n",
        "2) The dataset contains categorical columns(We will have to perform encoding to convert the categorical data to integer data)\n",
        "3) The data is of form pandas dataframe\n",
        "4) The dataset has NaN values which need to be treated\n",
        "5) After converting the data to integer type we need to check whether data is scaled or not.\n",
        "\"\"\""
      ],
      "execution_count": 11,
      "outputs": [
        {
          "output_type": "stream",
          "text": [
            "<class 'pandas.core.frame.DataFrame'>\n",
            "RangeIndex: 51717 entries, 0 to 51716\n",
            "Data columns (total 17 columns):\n",
            " #   Column                       Non-Null Count  Dtype \n",
            "---  ------                       --------------  ----- \n",
            " 0   url                          51717 non-null  object\n",
            " 1   address                      51717 non-null  object\n",
            " 2   name                         51717 non-null  object\n",
            " 3   online_order                 51717 non-null  object\n",
            " 4   book_table                   51717 non-null  object\n",
            " 5   rate                         43942 non-null  object\n",
            " 6   votes                        51717 non-null  int64 \n",
            " 7   phone                        50509 non-null  object\n",
            " 8   location                     51696 non-null  object\n",
            " 9   rest_type                    51490 non-null  object\n",
            " 10  dish_liked                   23639 non-null  object\n",
            " 11  cuisines                     51672 non-null  object\n",
            " 12  approx_cost(for two people)  51371 non-null  object\n",
            " 13  reviews_list                 51717 non-null  object\n",
            " 14  menu_item                    51717 non-null  object\n",
            " 15  listed_in(type)              51717 non-null  object\n",
            " 16  listed_in(city)              51717 non-null  object\n",
            "dtypes: int64(1), object(16)\n",
            "memory usage: 6.7+ MB\n"
          ],
          "name": "stdout"
        },
        {
          "output_type": "execute_result",
          "data": {
            "application/vnd.google.colaboratory.intrinsic+json": {
              "type": "string"
            },
            "text/plain": [
              "'\\n1) The dataset is of form rows and columns\\n2) The dataset contains categorical columns(We will have to perform encoding to convert the categorical data to integer data)\\n3) The data is of form pandas dataframe\\n4) The dataset has NaN values which need to be treated\\n5) After converting the data to integer type we need to check whether data is scaled or not.\\n'"
            ]
          },
          "metadata": {
            "tags": []
          },
          "execution_count": 11
        }
      ]
    },
    {
      "cell_type": "markdown",
      "metadata": {
        "id": "6GMhA6vmRtiD"
      },
      "source": [
        "#### Deleting unnecessary columns"
      ]
    },
    {
      "cell_type": "code",
      "metadata": {
        "execution": {
          "iopub.execute_input": "2021-05-31T15:20:58.302852Z",
          "iopub.status.busy": "2021-05-31T15:20:58.302318Z",
          "iopub.status.idle": "2021-05-31T15:20:58.314679Z",
          "shell.execute_reply": "2021-05-31T15:20:58.313839Z",
          "shell.execute_reply.started": "2021-05-31T15:20:58.302773Z"
        },
        "id": "-2KxdabfRtiD"
      },
      "source": [
        "# Dropping the url, dish_liked and phone from the dataset and saving the dataset into new variable\n",
        "zomato = zomato_real.drop(['url', 'dish_liked', 'phone'], axis = 1)"
      ],
      "execution_count": 12,
      "outputs": []
    },
    {
      "cell_type": "code",
      "metadata": {
        "execution": {
          "iopub.execute_input": "2021-05-31T15:20:58.316443Z",
          "iopub.status.busy": "2021-05-31T15:20:58.316014Z",
          "iopub.status.idle": "2021-05-31T15:20:58.338771Z",
          "shell.execute_reply": "2021-05-31T15:20:58.337939Z",
          "shell.execute_reply.started": "2021-05-31T15:20:58.316411Z"
        },
        "id": "ik_laNFfRtiE",
        "colab": {
          "base_uri": "https://localhost:8080/",
          "height": 516
        },
        "outputId": "931eef44-4739-4ec6-c4fc-132a85ee7b75"
      },
      "source": [
        "zomato.head()"
      ],
      "execution_count": 13,
      "outputs": [
        {
          "output_type": "execute_result",
          "data": {
            "text/html": [
              "<div>\n",
              "<style scoped>\n",
              "    .dataframe tbody tr th:only-of-type {\n",
              "        vertical-align: middle;\n",
              "    }\n",
              "\n",
              "    .dataframe tbody tr th {\n",
              "        vertical-align: top;\n",
              "    }\n",
              "\n",
              "    .dataframe thead th {\n",
              "        text-align: right;\n",
              "    }\n",
              "</style>\n",
              "<table border=\"1\" class=\"dataframe\">\n",
              "  <thead>\n",
              "    <tr style=\"text-align: right;\">\n",
              "      <th></th>\n",
              "      <th>address</th>\n",
              "      <th>name</th>\n",
              "      <th>online_order</th>\n",
              "      <th>book_table</th>\n",
              "      <th>rate</th>\n",
              "      <th>votes</th>\n",
              "      <th>location</th>\n",
              "      <th>rest_type</th>\n",
              "      <th>cuisines</th>\n",
              "      <th>approx_cost(for two people)</th>\n",
              "      <th>reviews_list</th>\n",
              "      <th>menu_item</th>\n",
              "      <th>listed_in(type)</th>\n",
              "      <th>listed_in(city)</th>\n",
              "    </tr>\n",
              "  </thead>\n",
              "  <tbody>\n",
              "    <tr>\n",
              "      <th>0</th>\n",
              "      <td>942, 21st Main Road, 2nd Stage, Banashankari, ...</td>\n",
              "      <td>Jalsa</td>\n",
              "      <td>Yes</td>\n",
              "      <td>Yes</td>\n",
              "      <td>4.1/5</td>\n",
              "      <td>775</td>\n",
              "      <td>Banashankari</td>\n",
              "      <td>Casual Dining</td>\n",
              "      <td>North Indian, Mughlai, Chinese</td>\n",
              "      <td>800</td>\n",
              "      <td>[('Rated 4.0', 'RATED\\n  A beautiful place to ...</td>\n",
              "      <td>[]</td>\n",
              "      <td>Buffet</td>\n",
              "      <td>Banashankari</td>\n",
              "    </tr>\n",
              "    <tr>\n",
              "      <th>1</th>\n",
              "      <td>2nd Floor, 80 Feet Road, Near Big Bazaar, 6th ...</td>\n",
              "      <td>Spice Elephant</td>\n",
              "      <td>Yes</td>\n",
              "      <td>No</td>\n",
              "      <td>4.1/5</td>\n",
              "      <td>787</td>\n",
              "      <td>Banashankari</td>\n",
              "      <td>Casual Dining</td>\n",
              "      <td>Chinese, North Indian, Thai</td>\n",
              "      <td>800</td>\n",
              "      <td>[('Rated 4.0', 'RATED\\n  Had been here for din...</td>\n",
              "      <td>[]</td>\n",
              "      <td>Buffet</td>\n",
              "      <td>Banashankari</td>\n",
              "    </tr>\n",
              "    <tr>\n",
              "      <th>2</th>\n",
              "      <td>1112, Next to KIMS Medical College, 17th Cross...</td>\n",
              "      <td>San Churro Cafe</td>\n",
              "      <td>Yes</td>\n",
              "      <td>No</td>\n",
              "      <td>3.8/5</td>\n",
              "      <td>918</td>\n",
              "      <td>Banashankari</td>\n",
              "      <td>Cafe, Casual Dining</td>\n",
              "      <td>Cafe, Mexican, Italian</td>\n",
              "      <td>800</td>\n",
              "      <td>[('Rated 3.0', \"RATED\\n  Ambience is not that ...</td>\n",
              "      <td>[]</td>\n",
              "      <td>Buffet</td>\n",
              "      <td>Banashankari</td>\n",
              "    </tr>\n",
              "    <tr>\n",
              "      <th>3</th>\n",
              "      <td>1st Floor, Annakuteera, 3rd Stage, Banashankar...</td>\n",
              "      <td>Addhuri Udupi Bhojana</td>\n",
              "      <td>No</td>\n",
              "      <td>No</td>\n",
              "      <td>3.7/5</td>\n",
              "      <td>88</td>\n",
              "      <td>Banashankari</td>\n",
              "      <td>Quick Bites</td>\n",
              "      <td>South Indian, North Indian</td>\n",
              "      <td>300</td>\n",
              "      <td>[('Rated 4.0', \"RATED\\n  Great food and proper...</td>\n",
              "      <td>[]</td>\n",
              "      <td>Buffet</td>\n",
              "      <td>Banashankari</td>\n",
              "    </tr>\n",
              "    <tr>\n",
              "      <th>4</th>\n",
              "      <td>10, 3rd Floor, Lakshmi Associates, Gandhi Baza...</td>\n",
              "      <td>Grand Village</td>\n",
              "      <td>No</td>\n",
              "      <td>No</td>\n",
              "      <td>3.8/5</td>\n",
              "      <td>166</td>\n",
              "      <td>Basavanagudi</td>\n",
              "      <td>Casual Dining</td>\n",
              "      <td>North Indian, Rajasthani</td>\n",
              "      <td>600</td>\n",
              "      <td>[('Rated 4.0', 'RATED\\n  Very good restaurant ...</td>\n",
              "      <td>[]</td>\n",
              "      <td>Buffet</td>\n",
              "      <td>Banashankari</td>\n",
              "    </tr>\n",
              "  </tbody>\n",
              "</table>\n",
              "</div>"
            ],
            "text/plain": [
              "                                             address  ... listed_in(city)\n",
              "0  942, 21st Main Road, 2nd Stage, Banashankari, ...  ...    Banashankari\n",
              "1  2nd Floor, 80 Feet Road, Near Big Bazaar, 6th ...  ...    Banashankari\n",
              "2  1112, Next to KIMS Medical College, 17th Cross...  ...    Banashankari\n",
              "3  1st Floor, Annakuteera, 3rd Stage, Banashankar...  ...    Banashankari\n",
              "4  10, 3rd Floor, Lakshmi Associates, Gandhi Baza...  ...    Banashankari\n",
              "\n",
              "[5 rows x 14 columns]"
            ]
          },
          "metadata": {
            "tags": []
          },
          "execution_count": 13
        }
      ]
    },
    {
      "cell_type": "markdown",
      "metadata": {
        "id": "A2JNGA08RtiF"
      },
      "source": [
        "#### Removing the duplicates"
      ]
    },
    {
      "cell_type": "code",
      "metadata": {
        "execution": {
          "iopub.execute_input": "2021-05-31T15:20:58.342071Z",
          "iopub.status.busy": "2021-05-31T15:20:58.341745Z",
          "iopub.status.idle": "2021-05-31T15:21:01.467249Z",
          "shell.execute_reply": "2021-05-31T15:21:01.466339Z",
          "shell.execute_reply.started": "2021-05-31T15:20:58.342041Z"
        },
        "id": "ZdY6FxOpRtiF"
      },
      "source": [
        "# Checking for number of duplicates\n",
        "zomato.duplicated().sum()\n",
        "# Removing the duplicate rows\n",
        "zomato.drop_duplicates(inplace = True)"
      ],
      "execution_count": 14,
      "outputs": []
    },
    {
      "cell_type": "markdown",
      "metadata": {
        "id": "LzZVBK1xRtiG"
      },
      "source": [
        "#### Removing the null values"
      ]
    },
    {
      "cell_type": "code",
      "metadata": {
        "execution": {
          "iopub.execute_input": "2021-05-31T15:21:01.469598Z",
          "iopub.status.busy": "2021-05-31T15:21:01.469086Z",
          "iopub.status.idle": "2021-05-31T15:21:01.627984Z",
          "shell.execute_reply": "2021-05-31T15:21:01.627020Z",
          "shell.execute_reply.started": "2021-05-31T15:21:01.469544Z"
        },
        "id": "69N3mWJdRtiG"
      },
      "source": [
        "# Since there are null values in the dataset we will be removing them\n",
        "\n",
        "# Checking total null values in each column\n",
        "zomato.isnull().sum()\n",
        "\n",
        "# Removing the null values\n",
        "zomato.dropna(how = 'any', inplace = True)     # How = any specifies that if atleast one null value is present in the row "
      ],
      "execution_count": 15,
      "outputs": []
    },
    {
      "cell_type": "code",
      "metadata": {
        "execution": {
          "iopub.execute_input": "2021-05-31T15:21:01.630327Z",
          "iopub.status.busy": "2021-05-31T15:21:01.629605Z",
          "iopub.status.idle": "2021-05-31T15:21:01.699397Z",
          "shell.execute_reply": "2021-05-31T15:21:01.697733Z",
          "shell.execute_reply.started": "2021-05-31T15:21:01.630273Z"
        },
        "id": "bnrWG2g5RtiG",
        "colab": {
          "base_uri": "https://localhost:8080/"
        },
        "outputId": "c93d623c-dfba-4543-a16b-feaffe039f38"
      },
      "source": [
        "# Checking whether we have removed the null values or not.\n",
        "zomato.isnull().sum()"
      ],
      "execution_count": 16,
      "outputs": [
        {
          "output_type": "execute_result",
          "data": {
            "text/plain": [
              "address                        0\n",
              "name                           0\n",
              "online_order                   0\n",
              "book_table                     0\n",
              "rate                           0\n",
              "votes                          0\n",
              "location                       0\n",
              "rest_type                      0\n",
              "cuisines                       0\n",
              "approx_cost(for two people)    0\n",
              "reviews_list                   0\n",
              "menu_item                      0\n",
              "listed_in(type)                0\n",
              "listed_in(city)                0\n",
              "dtype: int64"
            ]
          },
          "metadata": {
            "tags": []
          },
          "execution_count": 16
        }
      ]
    },
    {
      "cell_type": "markdown",
      "metadata": {
        "id": "CEt23BRHRtiH"
      },
      "source": [
        "#### Changing the column names if necessary"
      ]
    },
    {
      "cell_type": "code",
      "metadata": {
        "execution": {
          "iopub.execute_input": "2021-05-31T15:21:01.701816Z",
          "iopub.status.busy": "2021-05-31T15:21:01.701349Z",
          "iopub.status.idle": "2021-05-31T15:21:01.714424Z",
          "shell.execute_reply": "2021-05-31T15:21:01.713124Z",
          "shell.execute_reply.started": "2021-05-31T15:21:01.701768Z"
        },
        "id": "C4fgxJLPRtiH"
      },
      "source": [
        "zomato = zomato.rename(columns = {'approx_cost(for two people)' : 'cost', 'listed_in(type)' : 'type', \n",
        "                                  'listed_in(city)' : 'city'})"
      ],
      "execution_count": 17,
      "outputs": []
    },
    {
      "cell_type": "code",
      "metadata": {
        "execution": {
          "iopub.execute_input": "2021-05-31T15:21:01.716840Z",
          "iopub.status.busy": "2021-05-31T15:21:01.716350Z",
          "iopub.status.idle": "2021-05-31T15:21:01.743944Z",
          "shell.execute_reply": "2021-05-31T15:21:01.742605Z",
          "shell.execute_reply.started": "2021-05-31T15:21:01.716790Z"
        },
        "id": "IBtwvvdDRtiI",
        "colab": {
          "base_uri": "https://localhost:8080/",
          "height": 411
        },
        "outputId": "335b39e1-4065-41a5-e070-51948c57daef"
      },
      "source": [
        "zomato.head()"
      ],
      "execution_count": 18,
      "outputs": [
        {
          "output_type": "execute_result",
          "data": {
            "text/html": [
              "<div>\n",
              "<style scoped>\n",
              "    .dataframe tbody tr th:only-of-type {\n",
              "        vertical-align: middle;\n",
              "    }\n",
              "\n",
              "    .dataframe tbody tr th {\n",
              "        vertical-align: top;\n",
              "    }\n",
              "\n",
              "    .dataframe thead th {\n",
              "        text-align: right;\n",
              "    }\n",
              "</style>\n",
              "<table border=\"1\" class=\"dataframe\">\n",
              "  <thead>\n",
              "    <tr style=\"text-align: right;\">\n",
              "      <th></th>\n",
              "      <th>address</th>\n",
              "      <th>name</th>\n",
              "      <th>online_order</th>\n",
              "      <th>book_table</th>\n",
              "      <th>rate</th>\n",
              "      <th>votes</th>\n",
              "      <th>location</th>\n",
              "      <th>rest_type</th>\n",
              "      <th>cuisines</th>\n",
              "      <th>cost</th>\n",
              "      <th>reviews_list</th>\n",
              "      <th>menu_item</th>\n",
              "      <th>type</th>\n",
              "      <th>city</th>\n",
              "    </tr>\n",
              "  </thead>\n",
              "  <tbody>\n",
              "    <tr>\n",
              "      <th>0</th>\n",
              "      <td>942, 21st Main Road, 2nd Stage, Banashankari, ...</td>\n",
              "      <td>Jalsa</td>\n",
              "      <td>Yes</td>\n",
              "      <td>Yes</td>\n",
              "      <td>4.1/5</td>\n",
              "      <td>775</td>\n",
              "      <td>Banashankari</td>\n",
              "      <td>Casual Dining</td>\n",
              "      <td>North Indian, Mughlai, Chinese</td>\n",
              "      <td>800</td>\n",
              "      <td>[('Rated 4.0', 'RATED\\n  A beautiful place to ...</td>\n",
              "      <td>[]</td>\n",
              "      <td>Buffet</td>\n",
              "      <td>Banashankari</td>\n",
              "    </tr>\n",
              "    <tr>\n",
              "      <th>1</th>\n",
              "      <td>2nd Floor, 80 Feet Road, Near Big Bazaar, 6th ...</td>\n",
              "      <td>Spice Elephant</td>\n",
              "      <td>Yes</td>\n",
              "      <td>No</td>\n",
              "      <td>4.1/5</td>\n",
              "      <td>787</td>\n",
              "      <td>Banashankari</td>\n",
              "      <td>Casual Dining</td>\n",
              "      <td>Chinese, North Indian, Thai</td>\n",
              "      <td>800</td>\n",
              "      <td>[('Rated 4.0', 'RATED\\n  Had been here for din...</td>\n",
              "      <td>[]</td>\n",
              "      <td>Buffet</td>\n",
              "      <td>Banashankari</td>\n",
              "    </tr>\n",
              "    <tr>\n",
              "      <th>2</th>\n",
              "      <td>1112, Next to KIMS Medical College, 17th Cross...</td>\n",
              "      <td>San Churro Cafe</td>\n",
              "      <td>Yes</td>\n",
              "      <td>No</td>\n",
              "      <td>3.8/5</td>\n",
              "      <td>918</td>\n",
              "      <td>Banashankari</td>\n",
              "      <td>Cafe, Casual Dining</td>\n",
              "      <td>Cafe, Mexican, Italian</td>\n",
              "      <td>800</td>\n",
              "      <td>[('Rated 3.0', \"RATED\\n  Ambience is not that ...</td>\n",
              "      <td>[]</td>\n",
              "      <td>Buffet</td>\n",
              "      <td>Banashankari</td>\n",
              "    </tr>\n",
              "    <tr>\n",
              "      <th>3</th>\n",
              "      <td>1st Floor, Annakuteera, 3rd Stage, Banashankar...</td>\n",
              "      <td>Addhuri Udupi Bhojana</td>\n",
              "      <td>No</td>\n",
              "      <td>No</td>\n",
              "      <td>3.7/5</td>\n",
              "      <td>88</td>\n",
              "      <td>Banashankari</td>\n",
              "      <td>Quick Bites</td>\n",
              "      <td>South Indian, North Indian</td>\n",
              "      <td>300</td>\n",
              "      <td>[('Rated 4.0', \"RATED\\n  Great food and proper...</td>\n",
              "      <td>[]</td>\n",
              "      <td>Buffet</td>\n",
              "      <td>Banashankari</td>\n",
              "    </tr>\n",
              "    <tr>\n",
              "      <th>4</th>\n",
              "      <td>10, 3rd Floor, Lakshmi Associates, Gandhi Baza...</td>\n",
              "      <td>Grand Village</td>\n",
              "      <td>No</td>\n",
              "      <td>No</td>\n",
              "      <td>3.8/5</td>\n",
              "      <td>166</td>\n",
              "      <td>Basavanagudi</td>\n",
              "      <td>Casual Dining</td>\n",
              "      <td>North Indian, Rajasthani</td>\n",
              "      <td>600</td>\n",
              "      <td>[('Rated 4.0', 'RATED\\n  Very good restaurant ...</td>\n",
              "      <td>[]</td>\n",
              "      <td>Buffet</td>\n",
              "      <td>Banashankari</td>\n",
              "    </tr>\n",
              "  </tbody>\n",
              "</table>\n",
              "</div>"
            ],
            "text/plain": [
              "                                             address  ...          city\n",
              "0  942, 21st Main Road, 2nd Stage, Banashankari, ...  ...  Banashankari\n",
              "1  2nd Floor, 80 Feet Road, Near Big Bazaar, 6th ...  ...  Banashankari\n",
              "2  1112, Next to KIMS Medical College, 17th Cross...  ...  Banashankari\n",
              "3  1st Floor, Annakuteera, 3rd Stage, Banashankar...  ...  Banashankari\n",
              "4  10, 3rd Floor, Lakshmi Associates, Gandhi Baza...  ...  Banashankari\n",
              "\n",
              "[5 rows x 14 columns]"
            ]
          },
          "metadata": {
            "tags": []
          },
          "execution_count": 18
        }
      ]
    },
    {
      "cell_type": "markdown",
      "metadata": {
        "id": "xitYWb9BRtiI"
      },
      "source": [
        "#### Some Data Transformations"
      ]
    },
    {
      "cell_type": "code",
      "metadata": {
        "execution": {
          "iopub.execute_input": "2021-05-31T15:21:01.745817Z",
          "iopub.status.busy": "2021-05-31T15:21:01.745486Z",
          "iopub.status.idle": "2021-05-31T15:21:01.785381Z",
          "shell.execute_reply": "2021-05-31T15:21:01.784060Z",
          "shell.execute_reply.started": "2021-05-31T15:21:01.745776Z"
        },
        "id": "XSN_-EfKRtiJ"
      },
      "source": [
        "# Changing the 'cost' to string\n",
        "zomato['cost'] = zomato['cost'].astype('str')\n",
        "\n",
        "# Using lambda function to remove ',' from the 'cost' column\n",
        "zomato['cost'] = zomato['cost'].apply(lambda x : x.replace(',', '.'))\n",
        "\n",
        "# Changing the 'cost' to float\n",
        "zomato['cost'] = zomato['cost'].astype('float')"
      ],
      "execution_count": 19,
      "outputs": []
    },
    {
      "cell_type": "code",
      "metadata": {
        "execution": {
          "iopub.execute_input": "2021-05-31T15:21:01.786745Z",
          "iopub.status.busy": "2021-05-31T15:21:01.786462Z",
          "iopub.status.idle": "2021-05-31T15:21:01.893366Z",
          "shell.execute_reply": "2021-05-31T15:21:01.892121Z",
          "shell.execute_reply.started": "2021-05-31T15:21:01.786718Z"
        },
        "id": "PT3E7kZhRtiJ"
      },
      "source": [
        "# Removing '/5' from the rate column\n",
        "zomato = zomato.loc[zomato.rate != 'NEW']                 # .loc -> Access a group of rows and columns\n",
        "zomato = zomato.loc[zomato.rate != '-'].reset_index(drop = True)\n",
        "remove_slash = lambda x : x.replace('/5', '') if type(x) == np.str else x\n",
        "\n",
        "zomato['rate'] = zomato['rate'].apply(remove_slash).str.strip().astype('float')    # str.strip removes whitespaces around the string"
      ],
      "execution_count": 20,
      "outputs": []
    },
    {
      "cell_type": "code",
      "metadata": {
        "execution": {
          "iopub.execute_input": "2021-05-31T15:21:01.895043Z",
          "iopub.status.busy": "2021-05-31T15:21:01.894712Z",
          "iopub.status.idle": "2021-05-31T15:21:01.945139Z",
          "shell.execute_reply": "2021-05-31T15:21:01.943785Z",
          "shell.execute_reply.started": "2021-05-31T15:21:01.895015Z"
        },
        "id": "kdw8vYmCRtiK"
      },
      "source": [
        "# Adjust the column names\n",
        "\n",
        "zomato.name = zomato.name.apply(lambda x : x.title())\n",
        "\n",
        "zomato[['online_order', 'book_table']].replace(('Yes', 'No'), (True, False), inplace = True)"
      ],
      "execution_count": 21,
      "outputs": []
    },
    {
      "cell_type": "code",
      "metadata": {
        "execution": {
          "iopub.execute_input": "2021-05-31T15:21:01.946970Z",
          "iopub.status.busy": "2021-05-31T15:21:01.946658Z",
          "iopub.status.idle": "2021-05-31T15:22:29.733575Z",
          "shell.execute_reply": "2021-05-31T15:22:29.732560Z",
          "shell.execute_reply.started": "2021-05-31T15:21:01.946943Z"
        },
        "id": "Ytx2k-IMRtiK"
      },
      "source": [
        "# Computing Mean Rating\n",
        "\n",
        "restaurants = list(zomato['name'].unique())\n",
        "zomato['Mean Rating'] = 0\n",
        "\n",
        "for i in range(len(restaurants)):\n",
        "    zomato['Mean Rating'][zomato['name'] == restaurants[i]] = zomato['rate'][zomato['name'] == restaurants[i]].mean()\n",
        "    \n",
        "\n",
        "# Scaling the Mean Rating column\n",
        "from sklearn.preprocessing import MinMaxScaler\n",
        "scaler = MinMaxScaler(feature_range = (1, 5))\n",
        "zomato[['Mean Rating']] = scaler.fit_transform(zomato[['Mean Rating']]).round(2)"
      ],
      "execution_count": 22,
      "outputs": []
    },
    {
      "cell_type": "code",
      "metadata": {
        "execution": {
          "iopub.execute_input": "2021-05-31T15:22:29.735244Z",
          "iopub.status.busy": "2021-05-31T15:22:29.734961Z",
          "iopub.status.idle": "2021-05-31T15:22:29.756572Z",
          "shell.execute_reply": "2021-05-31T15:22:29.755704Z",
          "shell.execute_reply.started": "2021-05-31T15:22:29.735217Z"
        },
        "id": "QCOsCog5RtiL",
        "colab": {
          "base_uri": "https://localhost:8080/",
          "height": 479
        },
        "outputId": "47e9188a-1a24-433d-fcbf-ddf7a24b7b02"
      },
      "source": [
        "zomato.head()"
      ],
      "execution_count": 23,
      "outputs": [
        {
          "output_type": "execute_result",
          "data": {
            "text/html": [
              "<div>\n",
              "<style scoped>\n",
              "    .dataframe tbody tr th:only-of-type {\n",
              "        vertical-align: middle;\n",
              "    }\n",
              "\n",
              "    .dataframe tbody tr th {\n",
              "        vertical-align: top;\n",
              "    }\n",
              "\n",
              "    .dataframe thead th {\n",
              "        text-align: right;\n",
              "    }\n",
              "</style>\n",
              "<table border=\"1\" class=\"dataframe\">\n",
              "  <thead>\n",
              "    <tr style=\"text-align: right;\">\n",
              "      <th></th>\n",
              "      <th>address</th>\n",
              "      <th>name</th>\n",
              "      <th>online_order</th>\n",
              "      <th>book_table</th>\n",
              "      <th>rate</th>\n",
              "      <th>votes</th>\n",
              "      <th>location</th>\n",
              "      <th>rest_type</th>\n",
              "      <th>cuisines</th>\n",
              "      <th>cost</th>\n",
              "      <th>reviews_list</th>\n",
              "      <th>menu_item</th>\n",
              "      <th>type</th>\n",
              "      <th>city</th>\n",
              "      <th>Mean Rating</th>\n",
              "    </tr>\n",
              "  </thead>\n",
              "  <tbody>\n",
              "    <tr>\n",
              "      <th>0</th>\n",
              "      <td>942, 21st Main Road, 2nd Stage, Banashankari, ...</td>\n",
              "      <td>Jalsa</td>\n",
              "      <td>Yes</td>\n",
              "      <td>Yes</td>\n",
              "      <td>4.1</td>\n",
              "      <td>775</td>\n",
              "      <td>Banashankari</td>\n",
              "      <td>Casual Dining</td>\n",
              "      <td>North Indian, Mughlai, Chinese</td>\n",
              "      <td>800.0</td>\n",
              "      <td>[('Rated 4.0', 'RATED\\n  A beautiful place to ...</td>\n",
              "      <td>[]</td>\n",
              "      <td>Buffet</td>\n",
              "      <td>Banashankari</td>\n",
              "      <td>3.99</td>\n",
              "    </tr>\n",
              "    <tr>\n",
              "      <th>1</th>\n",
              "      <td>2nd Floor, 80 Feet Road, Near Big Bazaar, 6th ...</td>\n",
              "      <td>Spice Elephant</td>\n",
              "      <td>Yes</td>\n",
              "      <td>No</td>\n",
              "      <td>4.1</td>\n",
              "      <td>787</td>\n",
              "      <td>Banashankari</td>\n",
              "      <td>Casual Dining</td>\n",
              "      <td>Chinese, North Indian, Thai</td>\n",
              "      <td>800.0</td>\n",
              "      <td>[('Rated 4.0', 'RATED\\n  Had been here for din...</td>\n",
              "      <td>[]</td>\n",
              "      <td>Buffet</td>\n",
              "      <td>Banashankari</td>\n",
              "      <td>3.97</td>\n",
              "    </tr>\n",
              "    <tr>\n",
              "      <th>2</th>\n",
              "      <td>1112, Next to KIMS Medical College, 17th Cross...</td>\n",
              "      <td>San Churro Cafe</td>\n",
              "      <td>Yes</td>\n",
              "      <td>No</td>\n",
              "      <td>3.8</td>\n",
              "      <td>918</td>\n",
              "      <td>Banashankari</td>\n",
              "      <td>Cafe, Casual Dining</td>\n",
              "      <td>Cafe, Mexican, Italian</td>\n",
              "      <td>800.0</td>\n",
              "      <td>[('Rated 3.0', \"RATED\\n  Ambience is not that ...</td>\n",
              "      <td>[]</td>\n",
              "      <td>Buffet</td>\n",
              "      <td>Banashankari</td>\n",
              "      <td>3.58</td>\n",
              "    </tr>\n",
              "    <tr>\n",
              "      <th>3</th>\n",
              "      <td>1st Floor, Annakuteera, 3rd Stage, Banashankar...</td>\n",
              "      <td>Addhuri Udupi Bhojana</td>\n",
              "      <td>No</td>\n",
              "      <td>No</td>\n",
              "      <td>3.7</td>\n",
              "      <td>88</td>\n",
              "      <td>Banashankari</td>\n",
              "      <td>Quick Bites</td>\n",
              "      <td>South Indian, North Indian</td>\n",
              "      <td>300.0</td>\n",
              "      <td>[('Rated 4.0', \"RATED\\n  Great food and proper...</td>\n",
              "      <td>[]</td>\n",
              "      <td>Buffet</td>\n",
              "      <td>Banashankari</td>\n",
              "      <td>3.45</td>\n",
              "    </tr>\n",
              "    <tr>\n",
              "      <th>4</th>\n",
              "      <td>10, 3rd Floor, Lakshmi Associates, Gandhi Baza...</td>\n",
              "      <td>Grand Village</td>\n",
              "      <td>No</td>\n",
              "      <td>No</td>\n",
              "      <td>3.8</td>\n",
              "      <td>166</td>\n",
              "      <td>Basavanagudi</td>\n",
              "      <td>Casual Dining</td>\n",
              "      <td>North Indian, Rajasthani</td>\n",
              "      <td>600.0</td>\n",
              "      <td>[('Rated 4.0', 'RATED\\n  Very good restaurant ...</td>\n",
              "      <td>[]</td>\n",
              "      <td>Buffet</td>\n",
              "      <td>Banashankari</td>\n",
              "      <td>3.58</td>\n",
              "    </tr>\n",
              "  </tbody>\n",
              "</table>\n",
              "</div>"
            ],
            "text/plain": [
              "                                             address  ... Mean Rating\n",
              "0  942, 21st Main Road, 2nd Stage, Banashankari, ...  ...        3.99\n",
              "1  2nd Floor, 80 Feet Road, Near Big Bazaar, 6th ...  ...        3.97\n",
              "2  1112, Next to KIMS Medical College, 17th Cross...  ...        3.58\n",
              "3  1st Floor, Annakuteera, 3rd Stage, Banashankar...  ...        3.45\n",
              "4  10, 3rd Floor, Lakshmi Associates, Gandhi Baza...  ...        3.58\n",
              "\n",
              "[5 rows x 15 columns]"
            ]
          },
          "metadata": {
            "tags": []
          },
          "execution_count": 23
        }
      ]
    },
    {
      "cell_type": "markdown",
      "metadata": {
        "id": "g44UH4a6RtiO"
      },
      "source": [
        "#### Performing text pre-processing"
      ]
    },
    {
      "cell_type": "code",
      "metadata": {
        "execution": {
          "iopub.execute_input": "2021-05-31T15:22:29.758066Z",
          "iopub.status.busy": "2021-05-31T15:22:29.757785Z",
          "iopub.status.idle": "2021-05-31T15:22:31.599729Z",
          "shell.execute_reply": "2021-05-31T15:22:31.598657Z",
          "shell.execute_reply.started": "2021-05-31T15:22:29.758039Z"
        },
        "id": "J7Ug6HKXRtiO"
      },
      "source": [
        "# Lower Casing the letters\n",
        "zomato['reviews_list'] = zomato['reviews_list'].str.lower()"
      ],
      "execution_count": 24,
      "outputs": []
    },
    {
      "cell_type": "code",
      "metadata": {
        "execution": {
          "iopub.execute_input": "2021-05-31T15:22:31.601388Z",
          "iopub.status.busy": "2021-05-31T15:22:31.601069Z",
          "iopub.status.idle": "2021-05-31T15:23:04.650369Z",
          "shell.execute_reply": "2021-05-31T15:23:04.649141Z",
          "shell.execute_reply.started": "2021-05-31T15:22:31.601360Z"
        },
        "id": "3sKWlwOLRtiP"
      },
      "source": [
        "# Removing the punctuations\n",
        "import string\n",
        "PUNC_TO_REMOVE = string.punctuation               # String of punctuation marks\n",
        "\n",
        "def remove_punctuation(text):\n",
        "    \"\"\" Custom function to remove punctuation\"\"\"\n",
        "    return text.translate(str.maketrans('', '', PUNC_TO_REMOVE))\n",
        "    \n",
        "zomato['reviews_list'] = zomato['reviews_list'].apply(lambda text : remove_punctuation(text))"
      ],
      "execution_count": 25,
      "outputs": []
    },
    {
      "cell_type": "code",
      "metadata": {
        "execution": {
          "iopub.execute_input": "2021-05-31T15:23:04.653368Z",
          "iopub.status.busy": "2021-05-31T15:23:04.652710Z",
          "iopub.status.idle": "2021-05-31T15:23:20.098724Z",
          "shell.execute_reply": "2021-05-31T15:23:20.097420Z",
          "shell.execute_reply.started": "2021-05-31T15:23:04.653316Z"
        },
        "id": "PDe8lGWIRtiP",
        "colab": {
          "base_uri": "https://localhost:8080/"
        },
        "outputId": "cbc11e45-8b34-4abc-cd07-2f6f575fb9ab"
      },
      "source": [
        "# Removal of Stopwords\n",
        "import nltk\n",
        "nltk.download('stopwords')\n",
        "\n",
        "from nltk.corpus import stopwords\n",
        "\n",
        "STOPWORDS = set(stopwords.words('english'))      # list of common stopwords in english language\n",
        "\n",
        "def remove_stopwords(text):\n",
        "    \"\"\" Custom function to remove stopwords\"\"\"\n",
        "    return \" \".join([word for word in str(text).split() if word not in STOPWORDS])\n",
        "\n",
        "zomato['reviews_list'] = zomato['reviews_list'].apply(lambda text : remove_stopwords(text))"
      ],
      "execution_count": 30,
      "outputs": [
        {
          "output_type": "stream",
          "text": [
            "[nltk_data] Downloading package stopwords to /root/nltk_data...\n",
            "[nltk_data]   Unzipping corpora/stopwords.zip.\n"
          ],
          "name": "stdout"
        }
      ]
    },
    {
      "cell_type": "code",
      "metadata": {
        "execution": {
          "iopub.execute_input": "2021-05-31T15:23:20.100941Z",
          "iopub.status.busy": "2021-05-31T15:23:20.100459Z",
          "iopub.status.idle": "2021-05-31T15:23:27.709416Z",
          "shell.execute_reply": "2021-05-31T15:23:27.708422Z",
          "shell.execute_reply.started": "2021-05-31T15:23:20.100895Z"
        },
        "id": "J1QsY8sQRtiR"
      },
      "source": [
        "# Removal of urls\n",
        "def remove_urls(text):\n",
        "    url_pattern = re.compile(r'https?://\\S+|www\\.\\S+')              # Setting the url pattern\n",
        "    return url_pattern.sub(r'', text)\n",
        "\n",
        "zomato['reviews_list'] = zomato['reviews_list'].apply(lambda text : remove_urls(text))"
      ],
      "execution_count": 31,
      "outputs": []
    },
    {
      "cell_type": "code",
      "metadata": {
        "execution": {
          "iopub.execute_input": "2021-05-31T15:23:27.713245Z",
          "iopub.status.busy": "2021-05-31T15:23:27.712907Z",
          "iopub.status.idle": "2021-05-31T15:23:27.733135Z",
          "shell.execute_reply": "2021-05-31T15:23:27.731424Z",
          "shell.execute_reply.started": "2021-05-31T15:23:27.713212Z"
        },
        "id": "CJxkQu7kRtiS",
        "colab": {
          "base_uri": "https://localhost:8080/",
          "height": 205
        },
        "outputId": "9fc71ad8-02f9-4784-c4c6-acc6ea7309a4"
      },
      "source": [
        "zomato[['reviews_list', 'cuisines']].sample(5)"
      ],
      "execution_count": 32,
      "outputs": [
        {
          "output_type": "execute_result",
          "data": {
            "text/html": [
              "<div>\n",
              "<style scoped>\n",
              "    .dataframe tbody tr th:only-of-type {\n",
              "        vertical-align: middle;\n",
              "    }\n",
              "\n",
              "    .dataframe tbody tr th {\n",
              "        vertical-align: top;\n",
              "    }\n",
              "\n",
              "    .dataframe thead th {\n",
              "        text-align: right;\n",
              "    }\n",
              "</style>\n",
              "<table border=\"1\" class=\"dataframe\">\n",
              "  <thead>\n",
              "    <tr style=\"text-align: right;\">\n",
              "      <th></th>\n",
              "      <th>reviews_list</th>\n",
              "      <th>cuisines</th>\n",
              "    </tr>\n",
              "  </thead>\n",
              "  <tbody>\n",
              "    <tr>\n",
              "      <th>1959</th>\n",
              "      <td>rated 50 ratedn busy lanes jayanagar find plac...</td>\n",
              "      <td>Healthy Food, Cafe, Beverages</td>\n",
              "    </tr>\n",
              "    <tr>\n",
              "      <th>10711</th>\n",
              "      <td>rated 50 ratedn peacefull place friendly staff...</td>\n",
              "      <td>Cafe, Mughlai</td>\n",
              "    </tr>\n",
              "    <tr>\n",
              "      <th>22969</th>\n",
              "      <td>rated 40 ratedn good location sub road n mid s...</td>\n",
              "      <td>North Indian, Kerala</td>\n",
              "    </tr>\n",
              "    <tr>\n",
              "      <th>16143</th>\n",
              "      <td>rated 40 ratedn tasty biryani personally liked...</td>\n",
              "      <td>Biryani, South Indian</td>\n",
              "    </tr>\n",
              "    <tr>\n",
              "      <th>29249</th>\n",
              "      <td>rated 40 ratedn small cute place tucked lanes ...</td>\n",
              "      <td>Cafe, Desserts, Beverages</td>\n",
              "    </tr>\n",
              "  </tbody>\n",
              "</table>\n",
              "</div>"
            ],
            "text/plain": [
              "                                            reviews_list                       cuisines\n",
              "1959   rated 50 ratedn busy lanes jayanagar find plac...  Healthy Food, Cafe, Beverages\n",
              "10711  rated 50 ratedn peacefull place friendly staff...                  Cafe, Mughlai\n",
              "22969  rated 40 ratedn good location sub road n mid s...           North Indian, Kerala\n",
              "16143  rated 40 ratedn tasty biryani personally liked...          Biryani, South Indian\n",
              "29249  rated 40 ratedn small cute place tucked lanes ...      Cafe, Desserts, Beverages"
            ]
          },
          "metadata": {
            "tags": []
          },
          "execution_count": 32
        }
      ]
    },
    {
      "cell_type": "code",
      "metadata": {
        "id": "LuSYIh4dRtiU"
      },
      "source": [
        ""
      ],
      "execution_count": 32,
      "outputs": []
    },
    {
      "cell_type": "markdown",
      "metadata": {
        "id": "gSpiTJLtRtiV"
      },
      "source": [
        "#### Count-Vectorisation"
      ]
    },
    {
      "cell_type": "code",
      "metadata": {
        "execution": {
          "iopub.execute_input": "2021-05-31T15:23:27.736082Z",
          "iopub.status.busy": "2021-05-31T15:23:27.735285Z",
          "iopub.status.idle": "2021-05-31T15:23:27.752512Z",
          "shell.execute_reply": "2021-05-31T15:23:27.751602Z",
          "shell.execute_reply.started": "2021-05-31T15:23:27.736029Z"
        },
        "id": "PkUOjqzkRtiV"
      },
      "source": [
        "restaurant_names = list(zomato['name'].unique())\n",
        "\n",
        "def get_top_words(column, top_num_of_words, num_of_word):\n",
        "    \n",
        "    vec = CountVectorizer(ngram_range = num_of_word, stop_words = 'english')\n",
        "    bag_of_words = vec.fit_transform(column)\n",
        "    sum_words = bag_of_words.sum(axis = 0)\n",
        "    words_freq = [(words, sum_words[0, idx]) for word, idx in vec.vocabulary_.items()]\n",
        "    words_freq = sorted(words_freq, key = lambda x : x[1], reverse = True)\n",
        "    \n",
        "    return words_freq[: top_num_of_words]"
      ],
      "execution_count": 33,
      "outputs": []
    },
    {
      "cell_type": "code",
      "metadata": {
        "execution": {
          "iopub.execute_input": "2021-05-31T15:23:27.754718Z",
          "iopub.status.busy": "2021-05-31T15:23:27.754421Z",
          "iopub.status.idle": "2021-05-31T15:23:27.771422Z",
          "shell.execute_reply": "2021-05-31T15:23:27.770119Z",
          "shell.execute_reply.started": "2021-05-31T15:23:27.754690Z"
        },
        "id": "ZEcH4ZU4RtiV"
      },
      "source": [
        "zomato = zomato.drop(['address', 'rest_type', 'type', 'menu_item', 'votes'], axis = 1)"
      ],
      "execution_count": 34,
      "outputs": []
    },
    {
      "cell_type": "code",
      "metadata": {
        "execution": {
          "iopub.execute_input": "2021-05-31T15:23:27.773147Z",
          "iopub.status.busy": "2021-05-31T15:23:27.772852Z",
          "iopub.status.idle": "2021-05-31T15:23:27.782473Z",
          "shell.execute_reply": "2021-05-31T15:23:27.781226Z",
          "shell.execute_reply.started": "2021-05-31T15:23:27.773119Z"
        },
        "scrolled": true,
        "id": "vWZjNAheRtiW",
        "colab": {
          "base_uri": "https://localhost:8080/"
        },
        "outputId": "7e908219-91a7-4dd2-eef3-8f3de938735d"
      },
      "source": [
        "zomato.shape"
      ],
      "execution_count": 35,
      "outputs": [
        {
          "output_type": "execute_result",
          "data": {
            "text/plain": [
              "(41237, 10)"
            ]
          },
          "metadata": {
            "tags": []
          },
          "execution_count": 35
        }
      ]
    },
    {
      "cell_type": "code",
      "metadata": {
        "execution": {
          "iopub.execute_input": "2021-05-31T15:23:27.784865Z",
          "iopub.status.busy": "2021-05-31T15:23:27.784279Z",
          "iopub.status.idle": "2021-05-31T15:23:27.832705Z",
          "shell.execute_reply": "2021-05-31T15:23:27.831402Z",
          "shell.execute_reply.started": "2021-05-31T15:23:27.784815Z"
        },
        "id": "acTIkD_LRtiW",
        "colab": {
          "base_uri": "https://localhost:8080/"
        },
        "outputId": "d195fe78-d501-4a59-9255-0c9908a5637a"
      },
      "source": [
        "zomato.isnull().sum()"
      ],
      "execution_count": 36,
      "outputs": [
        {
          "output_type": "execute_result",
          "data": {
            "text/plain": [
              "name            0\n",
              "online_order    0\n",
              "book_table      0\n",
              "rate            0\n",
              "location        0\n",
              "cuisines        0\n",
              "cost            0\n",
              "reviews_list    0\n",
              "city            0\n",
              "Mean Rating     0\n",
              "dtype: int64"
            ]
          },
          "metadata": {
            "tags": []
          },
          "execution_count": 36
        }
      ]
    },
    {
      "cell_type": "code",
      "metadata": {
        "execution": {
          "iopub.execute_input": "2021-05-31T15:23:27.835247Z",
          "iopub.status.busy": "2021-05-31T15:23:27.834566Z",
          "iopub.status.idle": "2021-05-31T15:23:27.854701Z",
          "shell.execute_reply": "2021-05-31T15:23:27.853332Z",
          "shell.execute_reply.started": "2021-05-31T15:23:27.835202Z"
        },
        "id": "cP2y1G6IRtiX"
      },
      "source": [
        "# Randomly sample 50% of your dataframe\n",
        "df_percent = zomato.sample(frac = 0.5)"
      ],
      "execution_count": 37,
      "outputs": []
    },
    {
      "cell_type": "markdown",
      "metadata": {
        "id": "l4gTuHV6RtiX"
      },
      "source": [
        "#### TF-IDX Vectorizer (Term Frequency - Inverse Document Frequency)"
      ]
    },
    {
      "cell_type": "code",
      "metadata": {
        "execution": {
          "iopub.execute_input": "2021-05-31T15:23:27.857592Z",
          "iopub.status.busy": "2021-05-31T15:23:27.857166Z",
          "iopub.status.idle": "2021-05-31T15:23:27.862736Z",
          "shell.execute_reply": "2021-05-31T15:23:27.861564Z",
          "shell.execute_reply.started": "2021-05-31T15:23:27.857544Z"
        },
        "id": "_TjEZ5JgRtiX"
      },
      "source": [
        "# This would give us a matrix where each column represents a word in a general vocabulary(all words that appears at \n",
        "# least once in each document) and each column represents a restaurant"
      ],
      "execution_count": 38,
      "outputs": []
    },
    {
      "cell_type": "code",
      "metadata": {
        "execution": {
          "iopub.execute_input": "2021-05-31T15:23:27.865696Z",
          "iopub.status.busy": "2021-05-31T15:23:27.864953Z",
          "iopub.status.idle": "2021-05-31T15:25:39.325127Z",
          "shell.execute_reply": "2021-05-31T15:25:39.324185Z",
          "shell.execute_reply.started": "2021-05-31T15:23:27.865649Z"
        },
        "id": "7wv0fh40RtiY"
      },
      "source": [
        "df_percent.set_index('name', inplace = True)\n",
        "indices = pd.Series(df_percent.index)\n",
        "\n",
        "# Creating a Tf-Idf matrix\n",
        "tfidf = TfidfVectorizer(analyzer = 'word', ngram_range = (1, 2), min_df = 0, stop_words='english')\n",
        "tfidf_matrix = tfidf.fit_transform(df_percent['reviews_list'])\n",
        "\n",
        "cosine_similarities = linear_kernel(tfidf_matrix, tfidf_matrix)"
      ],
      "execution_count": 39,
      "outputs": []
    },
    {
      "cell_type": "markdown",
      "metadata": {
        "id": "Q9oX7yL8RtiY"
      },
      "source": [
        "#### Creating a function to recommend restaurants"
      ]
    },
    {
      "cell_type": "code",
      "metadata": {
        "execution": {
          "iopub.execute_input": "2021-05-31T15:25:39.326885Z",
          "iopub.status.busy": "2021-05-31T15:25:39.326550Z",
          "iopub.status.idle": "2021-05-31T15:25:39.336179Z",
          "shell.execute_reply": "2021-05-31T15:25:39.335218Z",
          "shell.execute_reply.started": "2021-05-31T15:25:39.326854Z"
        },
        "id": "SftNTX2URtiY"
      },
      "source": [
        "def recommend(name, cosine_similarities = cosine_similarities):\n",
        "    \n",
        "    # Create a list to put top restaurants\n",
        "    recommend_restaurant = []\n",
        "    \n",
        "    # Find index of hotel entered\n",
        "    idx = indices[indices == name].index[0]\n",
        "    \n",
        "    # Find hotels with similar cosine similarity value and order them in descending order\n",
        "    score_series = pd.Series(cosine_similarities[idx]).sort_values(ascending = False)\n",
        "    \n",
        "    # Extract top 30 restaurant indices with similar cosine-similarity value\n",
        "    top30_indices = list(score_series[0:31].index)\n",
        "    \n",
        "    # Names of top 30 restaurants\n",
        "    for each in top30_indices:\n",
        "        recommend_restaurant.append(list(df_percent.index)[each])\n",
        "        \n",
        "    # Creating a new dataset to show similar restaurants\n",
        "    df_new = pd.DataFrame(columns = ['cuisines', 'Mean Rating', 'cost'])\n",
        "    \n",
        "    # Create the top 30 similar restaurants with some of their columns\n",
        "    for each in recommend_restaurant:\n",
        "        df_new = df_new.append(pd.DataFrame(df_percent[['cuisines', 'Mean Rating', 'cost']][df_percent.index == each].sample()))\n",
        "        \n",
        "    # Drop the same named restaurants and sort only the top 10 by highest rating\n",
        "    df_new = df_new.drop_duplicates(subset = ['cuisines', 'Mean Rating', 'cost'], keep = False)\n",
        "    df_new = df_new.sort_values(by = 'Mean Rating', ascending = False).head(10)\n",
        "    \n",
        "    print('TOP %s RESTAURANTS LIKE %s WITH SIMILAR REVIEWS: ' % (str(len(df_new)), name))\n",
        "    \n",
        "    return df_new"
      ],
      "execution_count": 40,
      "outputs": []
    },
    {
      "cell_type": "code",
      "metadata": {
        "execution": {
          "iopub.execute_input": "2021-05-31T15:25:39.337819Z",
          "iopub.status.busy": "2021-05-31T15:25:39.337502Z",
          "iopub.status.idle": "2021-05-31T15:25:39.663492Z",
          "shell.execute_reply": "2021-05-31T15:25:39.662630Z",
          "shell.execute_reply.started": "2021-05-31T15:25:39.337789Z"
        },
        "scrolled": true,
        "id": "jcNgYXdaRtiZ",
        "colab": {
          "base_uri": "https://localhost:8080/",
          "height": 378
        },
        "outputId": "f512893c-2e52-44e3-f0f1-e9a1daf78612"
      },
      "source": [
        "recommendtion = recommend(\"Wazir'S\")\n",
        "recommendtion"
      ],
      "execution_count": 41,
      "outputs": [
        {
          "output_type": "stream",
          "text": [
            "TOP 10 RESTAURANTS LIKE Wazir'S WITH SIMILAR REVIEWS: \n"
          ],
          "name": "stdout"
        },
        {
          "output_type": "execute_result",
          "data": {
            "text/html": [
              "<div>\n",
              "<style scoped>\n",
              "    .dataframe tbody tr th:only-of-type {\n",
              "        vertical-align: middle;\n",
              "    }\n",
              "\n",
              "    .dataframe tbody tr th {\n",
              "        vertical-align: top;\n",
              "    }\n",
              "\n",
              "    .dataframe thead th {\n",
              "        text-align: right;\n",
              "    }\n",
              "</style>\n",
              "<table border=\"1\" class=\"dataframe\">\n",
              "  <thead>\n",
              "    <tr style=\"text-align: right;\">\n",
              "      <th></th>\n",
              "      <th>cuisines</th>\n",
              "      <th>Mean Rating</th>\n",
              "      <th>cost</th>\n",
              "    </tr>\n",
              "  </thead>\n",
              "  <tbody>\n",
              "    <tr>\n",
              "      <th>Pallavi Restaurant</th>\n",
              "      <td>Biryani, Chinese, Andhra</td>\n",
              "      <td>3.58</td>\n",
              "      <td>500.0</td>\n",
              "    </tr>\n",
              "    <tr>\n",
              "      <th>Donne Biriyani Angadi Mane</th>\n",
              "      <td>Biryani, Chinese</td>\n",
              "      <td>3.47</td>\n",
              "      <td>250.0</td>\n",
              "    </tr>\n",
              "    <tr>\n",
              "      <th>B.M.W - Bhookh Mitaane Wala</th>\n",
              "      <td>North Indian, South Indian, Chinese</td>\n",
              "      <td>3.42</td>\n",
              "      <td>500.0</td>\n",
              "    </tr>\n",
              "    <tr>\n",
              "      <th>Agarwal Food Service</th>\n",
              "      <td>North Indian, Chinese, Biryani</td>\n",
              "      <td>3.39</td>\n",
              "      <td>400.0</td>\n",
              "    </tr>\n",
              "    <tr>\n",
              "      <th>Hotel New Karavali</th>\n",
              "      <td>Mangalorean, South Indian, North Indian</td>\n",
              "      <td>3.34</td>\n",
              "      <td>300.0</td>\n",
              "    </tr>\n",
              "    <tr>\n",
              "      <th>Desi Dhaba</th>\n",
              "      <td>North Indian, Chinese, Rolls</td>\n",
              "      <td>3.19</td>\n",
              "      <td>300.0</td>\n",
              "    </tr>\n",
              "    <tr>\n",
              "      <th>Taza Khaana</th>\n",
              "      <td>Chinese, North Indian</td>\n",
              "      <td>2.63</td>\n",
              "      <td>450.0</td>\n",
              "    </tr>\n",
              "    <tr>\n",
              "      <th>Sri Lakshmi Dhaba</th>\n",
              "      <td>North Indian, Chinese</td>\n",
              "      <td>2.50</td>\n",
              "      <td>250.0</td>\n",
              "    </tr>\n",
              "    <tr>\n",
              "      <th>Foodiction</th>\n",
              "      <td>North Indian, Fast Food, Chinese, Burger</td>\n",
              "      <td>2.35</td>\n",
              "      <td>500.0</td>\n",
              "    </tr>\n",
              "    <tr>\n",
              "      <th>Night Food Joint</th>\n",
              "      <td>North Indian, Chinese</td>\n",
              "      <td>2.35</td>\n",
              "      <td>500.0</td>\n",
              "    </tr>\n",
              "  </tbody>\n",
              "</table>\n",
              "</div>"
            ],
            "text/plain": [
              "                                                             cuisines  ...   cost\n",
              "Pallavi Restaurant                           Biryani, Chinese, Andhra  ...  500.0\n",
              "Donne Biriyani Angadi Mane                           Biryani, Chinese  ...  250.0\n",
              "B.M.W - Bhookh Mitaane Wala       North Indian, South Indian, Chinese  ...  500.0\n",
              "Agarwal Food Service                   North Indian, Chinese, Biryani  ...  400.0\n",
              "Hotel New Karavali            Mangalorean, South Indian, North Indian  ...  300.0\n",
              "Desi Dhaba                               North Indian, Chinese, Rolls  ...  300.0\n",
              "Taza Khaana                                     Chinese, North Indian  ...  450.0\n",
              "Sri Lakshmi Dhaba                               North Indian, Chinese  ...  250.0\n",
              "Foodiction                   North Indian, Fast Food, Chinese, Burger  ...  500.0\n",
              "Night Food Joint                                North Indian, Chinese  ...  500.0\n",
              "\n",
              "[10 rows x 3 columns]"
            ]
          },
          "metadata": {
            "tags": []
          },
          "execution_count": 41
        }
      ]
    },
    {
      "cell_type": "code",
      "metadata": {
        "id": "CuSaRzINTjK2"
      },
      "source": [
        ""
      ],
      "execution_count": null,
      "outputs": []
    }
  ]
}